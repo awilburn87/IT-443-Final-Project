{
 "cells": [
  {
   "cell_type": "code",
   "execution_count": 2,
   "id": "dfcdd63c-b4bd-4033-a2d3-cf00889dd366",
   "metadata": {},
   "outputs": [],
   "source": [
    "# Name: Angela Wilburn\n",
    "\n",
    "# Course: IT445 Programming for Data Analysis\n",
    "\n",
    "# Assignment: Final_Project_Deliverable_1\n",
    "\n",
    "# Description: This notebook explores the data I am considering using for my final project. \n",
    "# The data in this notebook is movie metadata and reviews from IMDB and Sentiment training data. \n",
    "# Refrences: \n",
    "#Aditya Pal, Abhilash Barigidad, Abhijit Mustafi. (2020). IMDb Movie Reviews Dataset. \n",
    "    #IEEE Dataport. https://dx.doi.org/10.21227/zm1y-b270\n",
    "# MATTHEWWALLER, MBD Movie Reviews For Binary Sentiment Analysis\n",
    "    #https://www.kaggle.com/datasets/mwallerphunware/imbd-movie-reviews-for-binary-sentiment-analysis"
   ]
  },
  {
   "cell_type": "markdown",
   "id": "41d05e1c-e1da-4efb-a7b4-b59ddbd8ec28",
   "metadata": {},
   "source": [
    "# Combine multiple CSV files containing movie metadata into a Pandas data frame and verify that the data frame was created correctly."
   ]
  },
  {
   "cell_type": "code",
   "execution_count": 46,
   "id": "d9679a80-36df-4dd5-b76e-b599000fc190",
   "metadata": {},
   "outputs": [
    {
     "data": {
      "text/html": [
       "<div>\n",
       "<style scoped>\n",
       "    .dataframe tbody tr th:only-of-type {\n",
       "        vertical-align: middle;\n",
       "    }\n",
       "\n",
       "    .dataframe tbody tr th {\n",
       "        vertical-align: top;\n",
       "    }\n",
       "\n",
       "    .dataframe thead th {\n",
       "        text-align: right;\n",
       "    }\n",
       "</style>\n",
       "<table border=\"1\" class=\"dataframe\">\n",
       "  <thead>\n",
       "    <tr style=\"text-align: right;\">\n",
       "      <th></th>\n",
       "      <th>name</th>\n",
       "      <th>year</th>\n",
       "      <th>movie_rated</th>\n",
       "      <th>run_length</th>\n",
       "      <th>genres</th>\n",
       "      <th>release_date</th>\n",
       "      <th>rating</th>\n",
       "      <th>num_raters</th>\n",
       "      <th>num_reviews</th>\n",
       "      <th>review_url</th>\n",
       "      <th>Combined Genre</th>\n",
       "    </tr>\n",
       "  </thead>\n",
       "  <tbody>\n",
       "    <tr>\n",
       "      <th>0</th>\n",
       "      <td>The Dark Knight</td>\n",
       "      <td>2008</td>\n",
       "      <td>PG-13</td>\n",
       "      <td>2h 32min</td>\n",
       "      <td>Action; Crime; Drama;</td>\n",
       "      <td>18 July 2008 (USA)</td>\n",
       "      <td>9.0</td>\n",
       "      <td>2224522</td>\n",
       "      <td>6836</td>\n",
       "      <td>https://www.imdb.com/title/tt0468569/reviews/_...</td>\n",
       "      <td>Action</td>\n",
       "    </tr>\n",
       "    <tr>\n",
       "      <th>1</th>\n",
       "      <td>Inception</td>\n",
       "      <td>2010</td>\n",
       "      <td>PG-13</td>\n",
       "      <td>2h 28min</td>\n",
       "      <td>Action; Adventure; Sci-Fi;</td>\n",
       "      <td>16 July 2010 (USA)</td>\n",
       "      <td>8.8</td>\n",
       "      <td>1981675</td>\n",
       "      <td>3820</td>\n",
       "      <td>https://www.imdb.com/title/tt1375666/reviews/_...</td>\n",
       "      <td>Action</td>\n",
       "    </tr>\n",
       "    <tr>\n",
       "      <th>2</th>\n",
       "      <td>The Matrix</td>\n",
       "      <td>1999</td>\n",
       "      <td>R</td>\n",
       "      <td>2h 16min</td>\n",
       "      <td>Action; Sci-Fi;</td>\n",
       "      <td>31 March 1999 (USA)</td>\n",
       "      <td>8.7</td>\n",
       "      <td>1619761</td>\n",
       "      <td>4281</td>\n",
       "      <td>https://www.imdb.com/title/tt0133093/reviews/_...</td>\n",
       "      <td>Action</td>\n",
       "    </tr>\n",
       "    <tr>\n",
       "      <th>3</th>\n",
       "      <td>The Lord of the Rings: The Fellowship of the Ring</td>\n",
       "      <td>2001</td>\n",
       "      <td>PG-13</td>\n",
       "      <td>2h 58min</td>\n",
       "      <td>Action; Adventure; Drama;</td>\n",
       "      <td>19 December 2001 (USA)</td>\n",
       "      <td>8.8</td>\n",
       "      <td>1609165</td>\n",
       "      <td>5365</td>\n",
       "      <td>https://www.imdb.com/title/tt0120737/reviews/_...</td>\n",
       "      <td>Action</td>\n",
       "    </tr>\n",
       "    <tr>\n",
       "      <th>4</th>\n",
       "      <td>The Dark Knight Rises</td>\n",
       "      <td>2012</td>\n",
       "      <td>PG-13</td>\n",
       "      <td>2h 44min</td>\n",
       "      <td>Action; Adventure;</td>\n",
       "      <td>20 July 2012 (USA)</td>\n",
       "      <td>8.4</td>\n",
       "      <td>1470329</td>\n",
       "      <td>2979</td>\n",
       "      <td>https://www.imdb.com/title/tt1345836/reviews/_...</td>\n",
       "      <td>Action</td>\n",
       "    </tr>\n",
       "  </tbody>\n",
       "</table>\n",
       "</div>"
      ],
      "text/plain": [
       "                                                name  year movie_rated  \\\n",
       "0                                    The Dark Knight  2008       PG-13   \n",
       "1                                          Inception  2010       PG-13   \n",
       "2                                         The Matrix  1999           R   \n",
       "3  The Lord of the Rings: The Fellowship of the Ring  2001       PG-13   \n",
       "4                              The Dark Knight Rises  2012       PG-13   \n",
       "\n",
       "  run_length                       genres            release_date  rating  \\\n",
       "0   2h 32min       Action; Crime; Drama;       18 July 2008 (USA)     9.0   \n",
       "1   2h 28min  Action; Adventure; Sci-Fi;       16 July 2010 (USA)     8.8   \n",
       "2   2h 16min             Action; Sci-Fi;      31 March 1999 (USA)     8.7   \n",
       "3   2h 58min   Action; Adventure; Drama;   19 December 2001 (USA)     8.8   \n",
       "4   2h 44min          Action; Adventure;       20 July 2012 (USA)     8.4   \n",
       "\n",
       "   num_raters  num_reviews                                         review_url  \\\n",
       "0     2224522         6836  https://www.imdb.com/title/tt0468569/reviews/_...   \n",
       "1     1981675         3820  https://www.imdb.com/title/tt1375666/reviews/_...   \n",
       "2     1619761         4281  https://www.imdb.com/title/tt0133093/reviews/_...   \n",
       "3     1609165         5365  https://www.imdb.com/title/tt0120737/reviews/_...   \n",
       "4     1470329         2979  https://www.imdb.com/title/tt1345836/reviews/_...   \n",
       "\n",
       "  Combined Genre  \n",
       "0         Action  \n",
       "1         Action  \n",
       "2         Action  \n",
       "3         Action  \n",
       "4         Action  "
      ]
     },
     "execution_count": 46,
     "metadata": {},
     "output_type": "execute_result"
    }
   ],
   "source": [
    "# Import Nessasry libraries \n",
    "\n",
    "import pandas as pd\n",
    "import os\n",
    "\n",
    "# Set the directory where the CSV files are located for movie metadata\n",
    "data_dir = \"dataset/movies_per_genre/\"\n",
    "\n",
    "# Get a list of all CSV files in the directory\n",
    "csv_files = [os.path.join(data_dir, file) for file in os.listdir(data_dir)]\n",
    "\n",
    "# Create an empty list to store the DataFrames of all CSV files\n",
    "dfs = []\n",
    "\n",
    "# Loop through the CSV files and read them into DataFrames\n",
    "for csv_file in csv_files:\n",
    "    df = pd.read_csv(csv_file)\n",
    "    # Extract the file name without the extension\n",
    "    file_name = os.path.splitext(os.path.basename(csv_file))[0]\n",
    "    # Add a new column with the file name\n",
    "    df['Combined Genre'] = file_name\n",
    "    dfs.append(df)\n",
    "\n",
    "\n",
    "# Combine the DataFrames into a single DataFrame\n",
    "combined_df = pd.concat(dfs, ignore_index=True)\n",
    "\n",
    "# Verify the first 5 lines of the first Excel sheet are in the data frame\n",
    "combined_df.head(5)"
   ]
  },
  {
   "cell_type": "code",
   "execution_count": 14,
   "id": "d93e9ce0-2c4c-4dd6-828d-2e2b8a2c8ed4",
   "metadata": {},
   "outputs": [
    {
     "data": {
      "text/html": [
       "<div>\n",
       "<style scoped>\n",
       "    .dataframe tbody tr th:only-of-type {\n",
       "        vertical-align: middle;\n",
       "    }\n",
       "\n",
       "    .dataframe tbody tr th {\n",
       "        vertical-align: top;\n",
       "    }\n",
       "\n",
       "    .dataframe thead th {\n",
       "        text-align: right;\n",
       "    }\n",
       "</style>\n",
       "<table border=\"1\" class=\"dataframe\">\n",
       "  <thead>\n",
       "    <tr style=\"text-align: right;\">\n",
       "      <th></th>\n",
       "      <th>name</th>\n",
       "      <th>year</th>\n",
       "      <th>movie_rated</th>\n",
       "      <th>run_length</th>\n",
       "      <th>genres</th>\n",
       "      <th>release_date</th>\n",
       "      <th>rating</th>\n",
       "      <th>num_raters</th>\n",
       "      <th>num_reviews</th>\n",
       "      <th>review_url</th>\n",
       "    </tr>\n",
       "  </thead>\n",
       "  <tbody>\n",
       "    <tr>\n",
       "      <th>1695</th>\n",
       "      <td>Catch-22</td>\n",
       "      <td>1970</td>\n",
       "      <td>R</td>\n",
       "      <td>2h 2min</td>\n",
       "      <td>Comedy; Drama; War;</td>\n",
       "      <td>24 June 1970 (USA)</td>\n",
       "      <td>7.1</td>\n",
       "      <td>21424</td>\n",
       "      <td>145</td>\n",
       "      <td>https://www.imdb.com/title/tt0065528/reviews/_...</td>\n",
       "    </tr>\n",
       "    <tr>\n",
       "      <th>1696</th>\n",
       "      <td>The Great Raid</td>\n",
       "      <td>2005</td>\n",
       "      <td>R</td>\n",
       "      <td>2h 12min</td>\n",
       "      <td>Action; Drama; War;</td>\n",
       "      <td>12 August 2005 (USA)</td>\n",
       "      <td>6.7</td>\n",
       "      <td>20965</td>\n",
       "      <td>194</td>\n",
       "      <td>https://www.imdb.com/title/tt0326905/reviews/_...</td>\n",
       "    </tr>\n",
       "    <tr>\n",
       "      <th>1697</th>\n",
       "      <td>Saints and Soldiers</td>\n",
       "      <td>2003</td>\n",
       "      <td>PG-13</td>\n",
       "      <td>1h 30min</td>\n",
       "      <td>Action; Drama; War;</td>\n",
       "      <td>25 March 2005 (USA)</td>\n",
       "      <td>6.7</td>\n",
       "      <td>19730</td>\n",
       "      <td>163</td>\n",
       "      <td>https://www.imdb.com/title/tt0373283/reviews/_...</td>\n",
       "    </tr>\n",
       "    <tr>\n",
       "      <th>1698</th>\n",
       "      <td>Stop-Loss</td>\n",
       "      <td>2008</td>\n",
       "      <td>R</td>\n",
       "      <td>1h 52min</td>\n",
       "      <td>Drama; War;</td>\n",
       "      <td>28 March 2008 (USA)</td>\n",
       "      <td>6.4</td>\n",
       "      <td>19456</td>\n",
       "      <td>102</td>\n",
       "      <td>https://www.imdb.com/title/tt0489281/reviews/_...</td>\n",
       "    </tr>\n",
       "    <tr>\n",
       "      <th>1699</th>\n",
       "      <td>The Alamo</td>\n",
       "      <td>2004</td>\n",
       "      <td>PG-13</td>\n",
       "      <td>2h 17min</td>\n",
       "      <td>Drama; History; War;</td>\n",
       "      <td>9 April 2004 (USA)</td>\n",
       "      <td>6.0</td>\n",
       "      <td>19290</td>\n",
       "      <td>306</td>\n",
       "      <td>https://www.imdb.com/title/tt0318974/reviews/_...</td>\n",
       "    </tr>\n",
       "  </tbody>\n",
       "</table>\n",
       "</div>"
      ],
      "text/plain": [
       "                     name  year movie_rated run_length                 genres  \\\n",
       "1695             Catch-22  1970           R    2h 2min   Comedy; Drama; War;    \n",
       "1696       The Great Raid  2005           R   2h 12min   Action; Drama; War;    \n",
       "1697  Saints and Soldiers  2003       PG-13   1h 30min   Action; Drama; War;    \n",
       "1698            Stop-Loss  2008           R   1h 52min           Drama; War;    \n",
       "1699            The Alamo  2004       PG-13   2h 17min  Drama; History; War;    \n",
       "\n",
       "              release_date  rating  num_raters  num_reviews  \\\n",
       "1695    24 June 1970 (USA)     7.1       21424          145   \n",
       "1696  12 August 2005 (USA)     6.7       20965          194   \n",
       "1697   25 March 2005 (USA)     6.7       19730          163   \n",
       "1698   28 March 2008 (USA)     6.4       19456          102   \n",
       "1699    9 April 2004 (USA)     6.0       19290          306   \n",
       "\n",
       "                                             review_url  \n",
       "1695  https://www.imdb.com/title/tt0065528/reviews/_...  \n",
       "1696  https://www.imdb.com/title/tt0326905/reviews/_...  \n",
       "1697  https://www.imdb.com/title/tt0373283/reviews/_...  \n",
       "1698  https://www.imdb.com/title/tt0489281/reviews/_...  \n",
       "1699  https://www.imdb.com/title/tt0318974/reviews/_...  "
      ]
     },
     "execution_count": 14,
     "metadata": {},
     "output_type": "execute_result"
    }
   ],
   "source": [
    "# Verify the last 5 lines of the last excel sheet are in the dataframe\n",
    "combined_df.tail(5)"
   ]
  },
  {
   "cell_type": "markdown",
   "id": "d7cbd8a7-55c1-41e8-807c-f5c3a36c28d3",
   "metadata": {},
   "source": [
    "# Descriptive statistics of the data frame of movie metadata."
   ]
  },
  {
   "cell_type": "code",
   "execution_count": 15,
   "id": "067f1964-bfcc-40c1-98a1-c79283a9efa1",
   "metadata": {},
   "outputs": [
    {
     "name": "stdout",
     "output_type": "stream",
     "text": [
      "Shape: (1700, 10)\n"
     ]
    }
   ],
   "source": [
    "# Print the shape of the data to find how many rows and columns\n",
    "print(\"Shape:\", combined_df.shape)"
   ]
  },
  {
   "cell_type": "code",
   "execution_count": 16,
   "id": "93b56b46-564c-42c2-9537-bf2027bd5eae",
   "metadata": {},
   "outputs": [
    {
     "name": "stdout",
     "output_type": "stream",
     "text": [
      "List of Columns: Index(['name', 'year', 'movie_rated', 'run_length', 'genres', 'release_date',\n",
      "       'rating', 'num_raters', 'num_reviews', 'review_url'],\n",
      "      dtype='object')\n"
     ]
    }
   ],
   "source": [
    "#Print the columns in the data frame \n",
    "print(\"List of Columns:\", combined_df.columns)"
   ]
  },
  {
   "cell_type": "code",
   "execution_count": 17,
   "id": "98a137d3-42c0-4e5a-a0d9-f28bf5214d84",
   "metadata": {},
   "outputs": [
    {
     "name": "stdout",
     "output_type": "stream",
     "text": [
      "Data types: name             object\n",
      "year              int64\n",
      "movie_rated      object\n",
      "run_length       object\n",
      "genres           object\n",
      "release_date     object\n",
      "rating          float64\n",
      "num_raters        int64\n",
      "num_reviews       int64\n",
      "review_url       object\n",
      "dtype: object\n"
     ]
    }
   ],
   "source": [
    "#Show the data types of columns\n",
    "print(\"Data types:\", combined_df.dtypes)"
   ]
  },
  {
   "cell_type": "code",
   "execution_count": 18,
   "id": "389305d7-2557-4fb3-b765-b2698a919e7c",
   "metadata": {},
   "outputs": [
    {
     "data": {
      "text/html": [
       "<div>\n",
       "<style scoped>\n",
       "    .dataframe tbody tr th:only-of-type {\n",
       "        vertical-align: middle;\n",
       "    }\n",
       "\n",
       "    .dataframe tbody tr th {\n",
       "        vertical-align: top;\n",
       "    }\n",
       "\n",
       "    .dataframe thead th {\n",
       "        text-align: right;\n",
       "    }\n",
       "</style>\n",
       "<table border=\"1\" class=\"dataframe\">\n",
       "  <thead>\n",
       "    <tr style=\"text-align: right;\">\n",
       "      <th></th>\n",
       "      <th>name</th>\n",
       "    </tr>\n",
       "  </thead>\n",
       "  <tbody>\n",
       "    <tr>\n",
       "      <th>count</th>\n",
       "      <td>1700</td>\n",
       "    </tr>\n",
       "    <tr>\n",
       "      <th>unique</th>\n",
       "      <td>1145</td>\n",
       "    </tr>\n",
       "    <tr>\n",
       "      <th>top</th>\n",
       "      <td>The Lion King</td>\n",
       "    </tr>\n",
       "    <tr>\n",
       "      <th>freq</th>\n",
       "      <td>4</td>\n",
       "    </tr>\n",
       "  </tbody>\n",
       "</table>\n",
       "</div>"
      ],
      "text/plain": [
       "                 name\n",
       "count            1700\n",
       "unique           1145\n",
       "top     The Lion King\n",
       "freq                4"
      ]
     },
     "execution_count": 18,
     "metadata": {},
     "output_type": "execute_result"
    }
   ],
   "source": [
    "# Show statistics for the name column\n",
    "df_name = combined_df[['name']]\n",
    "df_name.describe()"
   ]
  },
  {
   "cell_type": "code",
   "execution_count": 19,
   "id": "b4ffb285-bac3-449c-8908-c5d94d7ac324",
   "metadata": {},
   "outputs": [
    {
     "data": {
      "text/html": [
       "<div>\n",
       "<style scoped>\n",
       "    .dataframe tbody tr th:only-of-type {\n",
       "        vertical-align: middle;\n",
       "    }\n",
       "\n",
       "    .dataframe tbody tr th {\n",
       "        vertical-align: top;\n",
       "    }\n",
       "\n",
       "    .dataframe thead th {\n",
       "        text-align: right;\n",
       "    }\n",
       "</style>\n",
       "<table border=\"1\" class=\"dataframe\">\n",
       "  <thead>\n",
       "    <tr style=\"text-align: right;\">\n",
       "      <th></th>\n",
       "      <th>rating</th>\n",
       "    </tr>\n",
       "  </thead>\n",
       "  <tbody>\n",
       "    <tr>\n",
       "      <th>count</th>\n",
       "      <td>1700.000000</td>\n",
       "    </tr>\n",
       "    <tr>\n",
       "      <th>mean</th>\n",
       "      <td>7.457706</td>\n",
       "    </tr>\n",
       "    <tr>\n",
       "      <th>std</th>\n",
       "      <td>0.736682</td>\n",
       "    </tr>\n",
       "    <tr>\n",
       "      <th>min</th>\n",
       "      <td>3.500000</td>\n",
       "    </tr>\n",
       "    <tr>\n",
       "      <th>25%</th>\n",
       "      <td>7.000000</td>\n",
       "    </tr>\n",
       "    <tr>\n",
       "      <th>50%</th>\n",
       "      <td>7.600000</td>\n",
       "    </tr>\n",
       "    <tr>\n",
       "      <th>75%</th>\n",
       "      <td>8.000000</td>\n",
       "    </tr>\n",
       "    <tr>\n",
       "      <th>max</th>\n",
       "      <td>9.300000</td>\n",
       "    </tr>\n",
       "  </tbody>\n",
       "</table>\n",
       "</div>"
      ],
      "text/plain": [
       "            rating\n",
       "count  1700.000000\n",
       "mean      7.457706\n",
       "std       0.736682\n",
       "min       3.500000\n",
       "25%       7.000000\n",
       "50%       7.600000\n",
       "75%       8.000000\n",
       "max       9.300000"
      ]
     },
     "execution_count": 19,
     "metadata": {},
     "output_type": "execute_result"
    }
   ],
   "source": [
    "# Show statistics for the rating column\n",
    "df_rating = combined_df[['rating']]\n",
    "df_rating.describe()"
   ]
  },
  {
   "cell_type": "markdown",
   "id": "6fd32bee-c17c-425b-b45b-a15b2f998ecb",
   "metadata": {},
   "source": [
    "# Combine multiple csv review data into Pandas data frame and verify the data frame"
   ]
  },
  {
   "cell_type": "code",
   "execution_count": 47,
   "id": "657af070-cd97-48c9-8e6b-a537575ed26b",
   "metadata": {},
   "outputs": [
    {
     "data": {
      "text/html": [
       "<div>\n",
       "<style scoped>\n",
       "    .dataframe tbody tr th:only-of-type {\n",
       "        vertical-align: middle;\n",
       "    }\n",
       "\n",
       "    .dataframe tbody tr th {\n",
       "        vertical-align: top;\n",
       "    }\n",
       "\n",
       "    .dataframe thead th {\n",
       "        text-align: right;\n",
       "    }\n",
       "</style>\n",
       "<table border=\"1\" class=\"dataframe\">\n",
       "  <thead>\n",
       "    <tr style=\"text-align: right;\">\n",
       "      <th></th>\n",
       "      <th>username</th>\n",
       "      <th>rating</th>\n",
       "      <th>helpful</th>\n",
       "      <th>total</th>\n",
       "      <th>date</th>\n",
       "      <th>title</th>\n",
       "      <th>review</th>\n",
       "      <th>name</th>\n",
       "    </tr>\n",
       "  </thead>\n",
       "  <tbody>\n",
       "    <tr>\n",
       "      <th>0</th>\n",
       "      <td>Imme-van-Gorp</td>\n",
       "      <td>7</td>\n",
       "      <td>102</td>\n",
       "      <td>123</td>\n",
       "      <td>30 January 2019</td>\n",
       "      <td>Unfortunately the ending ruined an otherwise ...</td>\n",
       "      <td>This movie is full of suspense. It makes you g...</td>\n",
       "      <td>10 Cloverfield Lane</td>\n",
       "    </tr>\n",
       "    <tr>\n",
       "      <th>1</th>\n",
       "      <td>sonofocelot-1</td>\n",
       "      <td>5</td>\n",
       "      <td>385</td>\n",
       "      <td>500</td>\n",
       "      <td>10 May 2016</td>\n",
       "      <td>...oh dear Abrams. Again.\\n</td>\n",
       "      <td>I'll leave this review fairly concise. &lt;br/&gt;&lt;b...</td>\n",
       "      <td>10 Cloverfield Lane</td>\n",
       "    </tr>\n",
       "    <tr>\n",
       "      <th>2</th>\n",
       "      <td>mhodaee</td>\n",
       "      <td>5</td>\n",
       "      <td>110</td>\n",
       "      <td>143</td>\n",
       "      <td>4 August 2017</td>\n",
       "      <td>Fantastic, gripping, thoroughly enjoyable, un...</td>\n",
       "      <td>I give the 5/10 out of the credit I owe to the...</td>\n",
       "      <td>10 Cloverfield Lane</td>\n",
       "    </tr>\n",
       "    <tr>\n",
       "      <th>3</th>\n",
       "      <td>fil-nik09</td>\n",
       "      <td>5</td>\n",
       "      <td>73</td>\n",
       "      <td>100</td>\n",
       "      <td>5 October 2016</td>\n",
       "      <td>Hmmm...\\n</td>\n",
       "      <td>First of all, I must say that I was expecting ...</td>\n",
       "      <td>10 Cloverfield Lane</td>\n",
       "    </tr>\n",
       "    <tr>\n",
       "      <th>4</th>\n",
       "      <td>DVR_Brale</td>\n",
       "      <td>7</td>\n",
       "      <td>42</td>\n",
       "      <td>56</td>\n",
       "      <td>27 July 2016</td>\n",
       "      <td>Slow building &amp; plot alternating claustrophob...</td>\n",
       "      <td>I've always loved movies with strong atmospher...</td>\n",
       "      <td>10 Cloverfield Lane</td>\n",
       "    </tr>\n",
       "  </tbody>\n",
       "</table>\n",
       "</div>"
      ],
      "text/plain": [
       "        username rating  helpful  total             date  \\\n",
       "0  Imme-van-Gorp      7      102    123  30 January 2019   \n",
       "1  sonofocelot-1      5      385    500      10 May 2016   \n",
       "2        mhodaee      5      110    143    4 August 2017   \n",
       "3      fil-nik09      5       73    100   5 October 2016   \n",
       "4      DVR_Brale      7       42     56     27 July 2016   \n",
       "\n",
       "                                               title  \\\n",
       "0   Unfortunately the ending ruined an otherwise ...   \n",
       "1                        ...oh dear Abrams. Again.\\n   \n",
       "2   Fantastic, gripping, thoroughly enjoyable, un...   \n",
       "3                                          Hmmm...\\n   \n",
       "4   Slow building & plot alternating claustrophob...   \n",
       "\n",
       "                                              review                 name  \n",
       "0  This movie is full of suspense. It makes you g...  10 Cloverfield Lane  \n",
       "1  I'll leave this review fairly concise. <br/><b...  10 Cloverfield Lane  \n",
       "2  I give the 5/10 out of the credit I owe to the...  10 Cloverfield Lane  \n",
       "3  First of all, I must say that I was expecting ...  10 Cloverfield Lane  \n",
       "4  I've always loved movies with strong atmospher...  10 Cloverfield Lane  "
      ]
     },
     "execution_count": 47,
     "metadata": {},
     "output_type": "execute_result"
    }
   ],
   "source": [
    "# Set the directory where the CSV files are located for reviews\n",
    "data_dir = \"dataset/reviews_per_movie_raw/\"\n",
    "\n",
    "# Get a list of all CSV files in the directory\n",
    "csv_files = [os.path.join(data_dir, file) for file in os.listdir(data_dir)]\n",
    "# Create an empty list to store the DataFrames\n",
    "dfs = []\n",
    "\n",
    "# Loop through the CSV files and read them into DataFrames\n",
    "for csv_file in csv_files:\n",
    "        df = pd.read_csv(csv_file)\n",
    "        #Get the movie title of the review based on the CSV file name and remove the year \n",
    "        movie_title = os.path.splitext(os.path.basename(csv_file))[0][:-5]\n",
    "        df['name'] = movie_title\n",
    "        dfs.append(df)\n",
    "\n",
    "# Concatenate the DataFrames into a single DataFrame\n",
    "combined_review_df = pd.concat(dfs, ignore_index=True)\n",
    "\n",
    "# Verify the first 5 lines of the first excel sheet are in the dataframe\n",
    "combined_review_df.head(5)"
   ]
  },
  {
   "cell_type": "code",
   "execution_count": 21,
   "id": "963680c2-ddd7-4cee-995e-b0b0e32673c5",
   "metadata": {},
   "outputs": [
    {
     "data": {
      "text/html": [
       "<div>\n",
       "<style scoped>\n",
       "    .dataframe tbody tr th:only-of-type {\n",
       "        vertical-align: middle;\n",
       "    }\n",
       "\n",
       "    .dataframe tbody tr th {\n",
       "        vertical-align: top;\n",
       "    }\n",
       "\n",
       "    .dataframe thead th {\n",
       "        text-align: right;\n",
       "    }\n",
       "</style>\n",
       "<table border=\"1\" class=\"dataframe\">\n",
       "  <thead>\n",
       "    <tr style=\"text-align: right;\">\n",
       "      <th></th>\n",
       "      <th>username</th>\n",
       "      <th>rating</th>\n",
       "      <th>helpful</th>\n",
       "      <th>total</th>\n",
       "      <th>date</th>\n",
       "      <th>title</th>\n",
       "      <th>review</th>\n",
       "      <th>name</th>\n",
       "    </tr>\n",
       "  </thead>\n",
       "  <tbody>\n",
       "    <tr>\n",
       "      <th>931560</th>\n",
       "      <td>rupie</td>\n",
       "      <td>8</td>\n",
       "      <td>0</td>\n",
       "      <td>1</td>\n",
       "      <td>31 January 2000</td>\n",
       "      <td>hard to beat for its genre\\n</td>\n",
       "      <td>I found it most interesting to read the commen...</td>\n",
       "      <td>Zulu</td>\n",
       "    </tr>\n",
       "    <tr>\n",
       "      <th>931561</th>\n",
       "      <td>JohnSeal</td>\n",
       "      <td>8</td>\n",
       "      <td>0</td>\n",
       "      <td>1</td>\n",
       "      <td>10 January 2000</td>\n",
       "      <td>One of the great war films\\n</td>\n",
       "      <td>Zulu is a film I can watch over and over again...</td>\n",
       "      <td>Zulu</td>\n",
       "    </tr>\n",
       "    <tr>\n",
       "      <th>931562</th>\n",
       "      <td>rmaki</td>\n",
       "      <td>10</td>\n",
       "      <td>0</td>\n",
       "      <td>1</td>\n",
       "      <td>4 September 1999</td>\n",
       "      <td>Great battle scenes!\\n</td>\n",
       "      <td>This is a fantastic film of a true, historical...</td>\n",
       "      <td>Zulu</td>\n",
       "    </tr>\n",
       "    <tr>\n",
       "      <th>931563</th>\n",
       "      <td>Grand</td>\n",
       "      <td>9</td>\n",
       "      <td>0</td>\n",
       "      <td>1</td>\n",
       "      <td>10 June 1999</td>\n",
       "      <td>Ye Gods, what a stirring movie!\\n</td>\n",
       "      <td>(I was getting chills just casting my vote for...</td>\n",
       "      <td>Zulu</td>\n",
       "    </tr>\n",
       "    <tr>\n",
       "      <th>931564</th>\n",
       "      <td>mike-411</td>\n",
       "      <td>10</td>\n",
       "      <td>0</td>\n",
       "      <td>2</td>\n",
       "      <td>7 November 1998</td>\n",
       "      <td>One of the few greats\\n</td>\n",
       "      <td>I was immediately drawn into this movie when I...</td>\n",
       "      <td>Zulu</td>\n",
       "    </tr>\n",
       "  </tbody>\n",
       "</table>\n",
       "</div>"
      ],
      "text/plain": [
       "        username rating  helpful  total              date  \\\n",
       "931560     rupie      8        0      1   31 January 2000   \n",
       "931561  JohnSeal      8        0      1   10 January 2000   \n",
       "931562     rmaki     10        0      1  4 September 1999   \n",
       "931563     Grand      9        0      1      10 June 1999   \n",
       "931564  mike-411     10        0      2   7 November 1998   \n",
       "\n",
       "                                     title  \\\n",
       "931560        hard to beat for its genre\\n   \n",
       "931561        One of the great war films\\n   \n",
       "931562              Great battle scenes!\\n   \n",
       "931563   Ye Gods, what a stirring movie!\\n   \n",
       "931564             One of the few greats\\n   \n",
       "\n",
       "                                                   review  name  \n",
       "931560  I found it most interesting to read the commen...  Zulu  \n",
       "931561  Zulu is a film I can watch over and over again...  Zulu  \n",
       "931562  This is a fantastic film of a true, historical...  Zulu  \n",
       "931563  (I was getting chills just casting my vote for...  Zulu  \n",
       "931564  I was immediately drawn into this movie when I...  Zulu  "
      ]
     },
     "execution_count": 21,
     "metadata": {},
     "output_type": "execute_result"
    }
   ],
   "source": [
    "# Verify the first 5 lines of the first excel sheet are in the dataframe\n",
    "combined_review_df.tail(5)"
   ]
  },
  {
   "cell_type": "markdown",
   "id": "27984aa3-d317-4651-810c-a7725b75c249",
   "metadata": {},
   "source": [
    "# Descriptive statistics of the data frame of movie reviews."
   ]
  },
  {
   "cell_type": "code",
   "execution_count": 22,
   "id": "ff59c14c-4470-4202-842d-f827ed00c466",
   "metadata": {},
   "outputs": [
    {
     "name": "stdout",
     "output_type": "stream",
     "text": [
      "Shape: (931565, 8)\n"
     ]
    }
   ],
   "source": [
    "# Print the shape of the data to find how many rows and columns\n",
    "print(\"Shape:\", combined_review_df.shape)"
   ]
  },
  {
   "cell_type": "code",
   "execution_count": 23,
   "id": "39d62449-2d7b-4590-b462-1923ea0f2adf",
   "metadata": {},
   "outputs": [
    {
     "name": "stdout",
     "output_type": "stream",
     "text": [
      "List of Columns: Index(['username', 'rating', 'helpful', 'total', 'date', 'title', 'review',\n",
      "       'name'],\n",
      "      dtype='object')\n"
     ]
    }
   ],
   "source": [
    "#Print the columns in the data frame \n",
    "print(\"List of Columns:\", combined_review_df.columns)"
   ]
  },
  {
   "cell_type": "code",
   "execution_count": 24,
   "id": "dabff94a-d47a-4535-b2aa-32d9b198e255",
   "metadata": {},
   "outputs": [
    {
     "name": "stdout",
     "output_type": "stream",
     "text": [
      "Data types: username    object\n",
      "rating      object\n",
      "helpful      int64\n",
      "total        int64\n",
      "date        object\n",
      "title       object\n",
      "review      object\n",
      "name        object\n",
      "dtype: object\n"
     ]
    }
   ],
   "source": [
    "#Show the datatypes of columns\n",
    "print(\"Data types:\", combined_review_df.dtypes)"
   ]
  },
  {
   "cell_type": "code",
   "execution_count": 25,
   "id": "bed2ff41-6994-433f-bbe7-2e2838cba472",
   "metadata": {},
   "outputs": [
    {
     "data": {
      "text/html": [
       "<div>\n",
       "<style scoped>\n",
       "    .dataframe tbody tr th:only-of-type {\n",
       "        vertical-align: middle;\n",
       "    }\n",
       "\n",
       "    .dataframe tbody tr th {\n",
       "        vertical-align: top;\n",
       "    }\n",
       "\n",
       "    .dataframe thead th {\n",
       "        text-align: right;\n",
       "    }\n",
       "</style>\n",
       "<table border=\"1\" class=\"dataframe\">\n",
       "  <thead>\n",
       "    <tr style=\"text-align: right;\">\n",
       "      <th></th>\n",
       "      <th>name</th>\n",
       "    </tr>\n",
       "  </thead>\n",
       "  <tbody>\n",
       "    <tr>\n",
       "      <th>count</th>\n",
       "      <td>931565</td>\n",
       "    </tr>\n",
       "    <tr>\n",
       "      <th>unique</th>\n",
       "      <td>1144</td>\n",
       "    </tr>\n",
       "    <tr>\n",
       "      <th>top</th>\n",
       "      <td>Joker</td>\n",
       "    </tr>\n",
       "    <tr>\n",
       "      <th>freq</th>\n",
       "      <td>10046</td>\n",
       "    </tr>\n",
       "  </tbody>\n",
       "</table>\n",
       "</div>"
      ],
      "text/plain": [
       "          name\n",
       "count   931565\n",
       "unique    1144\n",
       "top      Joker\n",
       "freq     10046"
      ]
     },
     "execution_count": 25,
     "metadata": {},
     "output_type": "execute_result"
    }
   ],
   "source": [
    "# Show statistics for the name column\n",
    "df_review_name = combined_review_df[['name']]\n",
    "df_review_name.describe()"
   ]
  },
  {
   "cell_type": "code",
   "execution_count": 26,
   "id": "7cb73d99-9149-4e60-8892-7a5bf0b5e9f3",
   "metadata": {},
   "outputs": [
    {
     "data": {
      "text/html": [
       "<div>\n",
       "<style scoped>\n",
       "    .dataframe tbody tr th:only-of-type {\n",
       "        vertical-align: middle;\n",
       "    }\n",
       "\n",
       "    .dataframe tbody tr th {\n",
       "        vertical-align: top;\n",
       "    }\n",
       "\n",
       "    .dataframe thead th {\n",
       "        text-align: right;\n",
       "    }\n",
       "</style>\n",
       "<table border=\"1\" class=\"dataframe\">\n",
       "  <thead>\n",
       "    <tr style=\"text-align: right;\">\n",
       "      <th></th>\n",
       "      <th>review</th>\n",
       "    </tr>\n",
       "  </thead>\n",
       "  <tbody>\n",
       "    <tr>\n",
       "      <th>count</th>\n",
       "      <td>931565</td>\n",
       "    </tr>\n",
       "    <tr>\n",
       "      <th>unique</th>\n",
       "      <td>929543</td>\n",
       "    </tr>\n",
       "    <tr>\n",
       "      <th>top</th>\n",
       "      <td>I have never seen such an amazing film since I...</td>\n",
       "    </tr>\n",
       "    <tr>\n",
       "      <th>freq</th>\n",
       "      <td>24</td>\n",
       "    </tr>\n",
       "  </tbody>\n",
       "</table>\n",
       "</div>"
      ],
      "text/plain": [
       "                                                   review\n",
       "count                                              931565\n",
       "unique                                             929543\n",
       "top     I have never seen such an amazing film since I...\n",
       "freq                                                   24"
      ]
     },
     "execution_count": 26,
     "metadata": {},
     "output_type": "execute_result"
    }
   ],
   "source": [
    "# Show statistics for the review  column\n",
    "df_review_review = combined_review_df[['review']]\n",
    "df_review_review.describe()"
   ]
  },
  {
   "cell_type": "markdown",
   "id": "2afa3fda-5fc8-49ec-b8d5-a126fde9e2a2",
   "metadata": {},
   "source": [
    "## Merge movie Metadata and review on movie title only returning matching rows."
   ]
  },
  {
   "cell_type": "code",
   "execution_count": 48,
   "id": "01973261-3ac7-46d5-9971-f73e37c7d484",
   "metadata": {},
   "outputs": [
    {
     "data": {
      "text/html": [
       "<div>\n",
       "<style scoped>\n",
       "    .dataframe tbody tr th:only-of-type {\n",
       "        vertical-align: middle;\n",
       "    }\n",
       "\n",
       "    .dataframe tbody tr th {\n",
       "        vertical-align: top;\n",
       "    }\n",
       "\n",
       "    .dataframe thead th {\n",
       "        text-align: right;\n",
       "    }\n",
       "</style>\n",
       "<table border=\"1\" class=\"dataframe\">\n",
       "  <thead>\n",
       "    <tr style=\"text-align: right;\">\n",
       "      <th></th>\n",
       "      <th>name</th>\n",
       "      <th>year</th>\n",
       "      <th>movie_rated</th>\n",
       "      <th>run_length</th>\n",
       "      <th>genres</th>\n",
       "      <th>release_date</th>\n",
       "      <th>rating_x</th>\n",
       "      <th>num_raters</th>\n",
       "      <th>num_reviews</th>\n",
       "      <th>review_url</th>\n",
       "      <th>Combined Genre</th>\n",
       "      <th>username</th>\n",
       "      <th>rating_y</th>\n",
       "      <th>helpful</th>\n",
       "      <th>total</th>\n",
       "      <th>date</th>\n",
       "      <th>title</th>\n",
       "      <th>review</th>\n",
       "    </tr>\n",
       "  </thead>\n",
       "  <tbody>\n",
       "    <tr>\n",
       "      <th>0</th>\n",
       "      <td>The Dark Knight</td>\n",
       "      <td>2008</td>\n",
       "      <td>PG-13</td>\n",
       "      <td>2h 32min</td>\n",
       "      <td>Action; Crime; Drama;</td>\n",
       "      <td>18 July 2008 (USA)</td>\n",
       "      <td>9.0</td>\n",
       "      <td>2224522</td>\n",
       "      <td>6836</td>\n",
       "      <td>https://www.imdb.com/title/tt0468569/reviews/_...</td>\n",
       "      <td>Action</td>\n",
       "      <td>MR_Heraclius</td>\n",
       "      <td>10</td>\n",
       "      <td>85</td>\n",
       "      <td>92</td>\n",
       "      <td>12 February 2020</td>\n",
       "      <td>The Dark Knight\\n</td>\n",
       "      <td>Confidently directed, dark, brooding, and pack...</td>\n",
       "    </tr>\n",
       "    <tr>\n",
       "      <th>1</th>\n",
       "      <td>The Dark Knight</td>\n",
       "      <td>2008</td>\n",
       "      <td>PG-13</td>\n",
       "      <td>2h 32min</td>\n",
       "      <td>Action; Crime; Drama;</td>\n",
       "      <td>18 July 2008 (USA)</td>\n",
       "      <td>9.0</td>\n",
       "      <td>2224522</td>\n",
       "      <td>6836</td>\n",
       "      <td>https://www.imdb.com/title/tt0468569/reviews/_...</td>\n",
       "      <td>Action</td>\n",
       "      <td>Smells_Like_Cheese</td>\n",
       "      <td>10</td>\n",
       "      <td>760</td>\n",
       "      <td>941</td>\n",
       "      <td>20 July 2008</td>\n",
       "      <td>The Batman of our dreams! So much more than a...</td>\n",
       "      <td>I got to see The Dark Knight on Wednesday nigh...</td>\n",
       "    </tr>\n",
       "    <tr>\n",
       "      <th>2</th>\n",
       "      <td>The Dark Knight</td>\n",
       "      <td>2008</td>\n",
       "      <td>PG-13</td>\n",
       "      <td>2h 32min</td>\n",
       "      <td>Action; Crime; Drama;</td>\n",
       "      <td>18 July 2008 (USA)</td>\n",
       "      <td>9.0</td>\n",
       "      <td>2224522</td>\n",
       "      <td>6836</td>\n",
       "      <td>https://www.imdb.com/title/tt0468569/reviews/_...</td>\n",
       "      <td>Action</td>\n",
       "      <td>straightblaster</td>\n",
       "      <td>10</td>\n",
       "      <td>3746</td>\n",
       "      <td>4780</td>\n",
       "      <td>9 July 2008</td>\n",
       "      <td>Film surpasses the hype\\n</td>\n",
       "      <td>We've been subjected to enormous amounts of hy...</td>\n",
       "    </tr>\n",
       "    <tr>\n",
       "      <th>3</th>\n",
       "      <td>The Dark Knight</td>\n",
       "      <td>2008</td>\n",
       "      <td>PG-13</td>\n",
       "      <td>2h 32min</td>\n",
       "      <td>Action; Crime; Drama;</td>\n",
       "      <td>18 July 2008 (USA)</td>\n",
       "      <td>9.0</td>\n",
       "      <td>2224522</td>\n",
       "      <td>6836</td>\n",
       "      <td>https://www.imdb.com/title/tt0468569/reviews/_...</td>\n",
       "      <td>Action</td>\n",
       "      <td>Aaron_Kyle</td>\n",
       "      <td>9</td>\n",
       "      <td>259</td>\n",
       "      <td>325</td>\n",
       "      <td>12 October 2018</td>\n",
       "      <td>Superhero Genre - Alive and kicking\\n</td>\n",
       "      <td>First I'd controversially like to point out th...</td>\n",
       "    </tr>\n",
       "    <tr>\n",
       "      <th>4</th>\n",
       "      <td>The Dark Knight</td>\n",
       "      <td>2008</td>\n",
       "      <td>PG-13</td>\n",
       "      <td>2h 32min</td>\n",
       "      <td>Action; Crime; Drama;</td>\n",
       "      <td>18 July 2008 (USA)</td>\n",
       "      <td>9.0</td>\n",
       "      <td>2224522</td>\n",
       "      <td>6836</td>\n",
       "      <td>https://www.imdb.com/title/tt0468569/reviews/_...</td>\n",
       "      <td>Action</td>\n",
       "      <td>filmquestint</td>\n",
       "      <td>10</td>\n",
       "      <td>532</td>\n",
       "      <td>687</td>\n",
       "      <td>20 July 2008</td>\n",
       "      <td>Heath Ledger's Dark and Brilliant Swan Song\\n</td>\n",
       "      <td>I couldn't believe \"The Dark knight\" could liv...</td>\n",
       "    </tr>\n",
       "  </tbody>\n",
       "</table>\n",
       "</div>"
      ],
      "text/plain": [
       "              name  year movie_rated run_length                  genres  \\\n",
       "0  The Dark Knight  2008       PG-13   2h 32min  Action; Crime; Drama;    \n",
       "1  The Dark Knight  2008       PG-13   2h 32min  Action; Crime; Drama;    \n",
       "2  The Dark Knight  2008       PG-13   2h 32min  Action; Crime; Drama;    \n",
       "3  The Dark Knight  2008       PG-13   2h 32min  Action; Crime; Drama;    \n",
       "4  The Dark Knight  2008       PG-13   2h 32min  Action; Crime; Drama;    \n",
       "\n",
       "         release_date  rating_x  num_raters  num_reviews  \\\n",
       "0  18 July 2008 (USA)       9.0     2224522         6836   \n",
       "1  18 July 2008 (USA)       9.0     2224522         6836   \n",
       "2  18 July 2008 (USA)       9.0     2224522         6836   \n",
       "3  18 July 2008 (USA)       9.0     2224522         6836   \n",
       "4  18 July 2008 (USA)       9.0     2224522         6836   \n",
       "\n",
       "                                          review_url Combined Genre  \\\n",
       "0  https://www.imdb.com/title/tt0468569/reviews/_...         Action   \n",
       "1  https://www.imdb.com/title/tt0468569/reviews/_...         Action   \n",
       "2  https://www.imdb.com/title/tt0468569/reviews/_...         Action   \n",
       "3  https://www.imdb.com/title/tt0468569/reviews/_...         Action   \n",
       "4  https://www.imdb.com/title/tt0468569/reviews/_...         Action   \n",
       "\n",
       "             username rating_y  helpful  total              date  \\\n",
       "0        MR_Heraclius       10       85     92  12 February 2020   \n",
       "1  Smells_Like_Cheese       10      760    941      20 July 2008   \n",
       "2     straightblaster       10     3746   4780       9 July 2008   \n",
       "3          Aaron_Kyle        9      259    325   12 October 2018   \n",
       "4        filmquestint       10      532    687      20 July 2008   \n",
       "\n",
       "                                               title  \\\n",
       "0                                  The Dark Knight\\n   \n",
       "1   The Batman of our dreams! So much more than a...   \n",
       "2                          Film surpasses the hype\\n   \n",
       "3              Superhero Genre - Alive and kicking\\n   \n",
       "4      Heath Ledger's Dark and Brilliant Swan Song\\n   \n",
       "\n",
       "                                              review  \n",
       "0  Confidently directed, dark, brooding, and pack...  \n",
       "1  I got to see The Dark Knight on Wednesday nigh...  \n",
       "2  We've been subjected to enormous amounts of hy...  \n",
       "3  First I'd controversially like to point out th...  \n",
       "4  I couldn't believe \"The Dark knight\" could liv...  "
      ]
     },
     "execution_count": 48,
     "metadata": {},
     "output_type": "execute_result"
    }
   ],
   "source": [
    "#Join datasets using pandas\n",
    "combined_df = combined_df.drop_duplicates()\n",
    "merged_dataset =pd.merge(combined_df, combined_review_df, on=['name'], how='inner')\n",
    "merged_dataset.head(5)"
   ]
  },
  {
   "cell_type": "code",
   "execution_count": 28,
   "id": "6ed8c767-efe2-467b-b2ce-07edc9c3ec72",
   "metadata": {},
   "outputs": [
    {
     "name": "stdout",
     "output_type": "stream",
     "text": [
      "Shape: (1067384, 17)\n"
     ]
    }
   ],
   "source": [
    "# Print the shape of the data to find how many rows and columns\n",
    "print(\"Shape:\", merged_dataset.shape)"
   ]
  },
  {
   "cell_type": "code",
   "execution_count": 29,
   "id": "07a3fa99-4cb9-4ccd-9e2b-ead991b78deb",
   "metadata": {},
   "outputs": [
    {
     "name": "stdout",
     "output_type": "stream",
     "text": [
      "Columns: Index(['name', 'year', 'movie_rated', 'run_length', 'genres', 'release_date',\n",
      "       'rating_x', 'num_raters', 'num_reviews', 'review_url', 'username',\n",
      "       'rating_y', 'helpful', 'total', 'date', 'title', 'review'],\n",
      "      dtype='object')\n"
     ]
    }
   ],
   "source": [
    "# Get the column names \n",
    "print(\"Columns:\", merged_dataset.columns)"
   ]
  },
  {
   "cell_type": "code",
   "execution_count": 30,
   "id": "985daad7-2557-4055-8f9b-36814d298b34",
   "metadata": {},
   "outputs": [
    {
     "name": "stdout",
     "output_type": "stream",
     "text": [
      "Data types: name             object\n",
      "year              int64\n",
      "movie_rated      object\n",
      "run_length       object\n",
      "genres           object\n",
      "release_date     object\n",
      "rating_x        float64\n",
      "num_raters        int64\n",
      "num_reviews       int64\n",
      "review_url       object\n",
      "username         object\n",
      "rating_y         object\n",
      "helpful           int64\n",
      "total             int64\n",
      "date             object\n",
      "title            object\n",
      "review           object\n",
      "dtype: object\n"
     ]
    }
   ],
   "source": [
    "#Show the datatypes of columns\n",
    "print(\"Data types:\", merged_dataset.dtypes)"
   ]
  },
  {
   "cell_type": "code",
   "execution_count": 31,
   "id": "d29cd30e-3dc3-455b-ae0a-3afe96fae28c",
   "metadata": {},
   "outputs": [
    {
     "data": {
      "text/html": [
       "<div>\n",
       "<style scoped>\n",
       "    .dataframe tbody tr th:only-of-type {\n",
       "        vertical-align: middle;\n",
       "    }\n",
       "\n",
       "    .dataframe tbody tr th {\n",
       "        vertical-align: top;\n",
       "    }\n",
       "\n",
       "    .dataframe thead th {\n",
       "        text-align: right;\n",
       "    }\n",
       "</style>\n",
       "<table border=\"1\" class=\"dataframe\">\n",
       "  <thead>\n",
       "    <tr style=\"text-align: right;\">\n",
       "      <th></th>\n",
       "      <th>name</th>\n",
       "    </tr>\n",
       "  </thead>\n",
       "  <tbody>\n",
       "    <tr>\n",
       "      <th>count</th>\n",
       "      <td>1067384</td>\n",
       "    </tr>\n",
       "    <tr>\n",
       "      <th>unique</th>\n",
       "      <td>1040</td>\n",
       "    </tr>\n",
       "    <tr>\n",
       "      <th>top</th>\n",
       "      <td>Joker</td>\n",
       "    </tr>\n",
       "    <tr>\n",
       "      <th>freq</th>\n",
       "      <td>20092</td>\n",
       "    </tr>\n",
       "  </tbody>\n",
       "</table>\n",
       "</div>"
      ],
      "text/plain": [
       "           name\n",
       "count   1067384\n",
       "unique     1040\n",
       "top       Joker\n",
       "freq      20092"
      ]
     },
     "execution_count": 31,
     "metadata": {},
     "output_type": "execute_result"
    }
   ],
   "source": [
    "# Show statistics for the name column\n",
    "merged_dataset_name = merged_dataset[['name']]\n",
    "merged_dataset_name.describe()"
   ]
  },
  {
   "cell_type": "code",
   "execution_count": 32,
   "id": "c8f8b076-4bf9-467e-a9ea-e4b665bbe933",
   "metadata": {},
   "outputs": [
    {
     "data": {
      "text/html": [
       "<div>\n",
       "<style scoped>\n",
       "    .dataframe tbody tr th:only-of-type {\n",
       "        vertical-align: middle;\n",
       "    }\n",
       "\n",
       "    .dataframe tbody tr th {\n",
       "        vertical-align: top;\n",
       "    }\n",
       "\n",
       "    .dataframe thead th {\n",
       "        text-align: right;\n",
       "    }\n",
       "</style>\n",
       "<table border=\"1\" class=\"dataframe\">\n",
       "  <thead>\n",
       "    <tr style=\"text-align: right;\">\n",
       "      <th></th>\n",
       "      <th>review</th>\n",
       "    </tr>\n",
       "  </thead>\n",
       "  <tbody>\n",
       "    <tr>\n",
       "      <th>count</th>\n",
       "      <td>1067384</td>\n",
       "    </tr>\n",
       "    <tr>\n",
       "      <th>unique</th>\n",
       "      <td>792779</td>\n",
       "    </tr>\n",
       "    <tr>\n",
       "      <th>top</th>\n",
       "      <td>I have never seen such an amazing film since I...</td>\n",
       "    </tr>\n",
       "    <tr>\n",
       "      <th>freq</th>\n",
       "      <td>23</td>\n",
       "    </tr>\n",
       "  </tbody>\n",
       "</table>\n",
       "</div>"
      ],
      "text/plain": [
       "                                                   review\n",
       "count                                             1067384\n",
       "unique                                             792779\n",
       "top     I have never seen such an amazing film since I...\n",
       "freq                                                   23"
      ]
     },
     "execution_count": 32,
     "metadata": {},
     "output_type": "execute_result"
    }
   ],
   "source": [
    "# Show statistics for the review column\n",
    "merged_dataset_review = merged_dataset[['review']]\n",
    "merged_dataset_review.describe()"
   ]
  },
  {
   "cell_type": "code",
   "execution_count": 33,
   "id": "b2b058a1-d68d-4169-bb75-ced9840daa7f",
   "metadata": {},
   "outputs": [
    {
     "data": {
      "text/html": [
       "<div>\n",
       "<style scoped>\n",
       "    .dataframe tbody tr th:only-of-type {\n",
       "        vertical-align: middle;\n",
       "    }\n",
       "\n",
       "    .dataframe tbody tr th {\n",
       "        vertical-align: top;\n",
       "    }\n",
       "\n",
       "    .dataframe thead th {\n",
       "        text-align: right;\n",
       "    }\n",
       "</style>\n",
       "<table border=\"1\" class=\"dataframe\">\n",
       "  <thead>\n",
       "    <tr style=\"text-align: right;\">\n",
       "      <th></th>\n",
       "      <th>username</th>\n",
       "    </tr>\n",
       "  </thead>\n",
       "  <tbody>\n",
       "    <tr>\n",
       "      <th>count</th>\n",
       "      <td>1067384</td>\n",
       "    </tr>\n",
       "    <tr>\n",
       "      <th>unique</th>\n",
       "      <td>372643</td>\n",
       "    </tr>\n",
       "    <tr>\n",
       "      <th>top</th>\n",
       "      <td>SnoopyStyle</td>\n",
       "    </tr>\n",
       "    <tr>\n",
       "      <th>freq</th>\n",
       "      <td>1252</td>\n",
       "    </tr>\n",
       "  </tbody>\n",
       "</table>\n",
       "</div>"
      ],
      "text/plain": [
       "           username\n",
       "count       1067384\n",
       "unique       372643\n",
       "top     SnoopyStyle\n",
       "freq           1252"
      ]
     },
     "execution_count": 33,
     "metadata": {},
     "output_type": "execute_result"
    }
   ],
   "source": [
    "merged_dataset_username = merged_dataset[['username']]\n",
    "merged_dataset_username.describe()"
   ]
  },
  {
   "cell_type": "code",
   "execution_count": 34,
   "id": "e20cb81f-cc18-48de-90f9-acd93f7cf616",
   "metadata": {},
   "outputs": [
    {
     "data": {
      "text/html": [
       "<div>\n",
       "<style scoped>\n",
       "    .dataframe tbody tr th:only-of-type {\n",
       "        vertical-align: middle;\n",
       "    }\n",
       "\n",
       "    .dataframe tbody tr th {\n",
       "        vertical-align: top;\n",
       "    }\n",
       "\n",
       "    .dataframe thead th {\n",
       "        text-align: right;\n",
       "    }\n",
       "</style>\n",
       "<table border=\"1\" class=\"dataframe\">\n",
       "  <thead>\n",
       "    <tr style=\"text-align: right;\">\n",
       "      <th></th>\n",
       "      <th>rating_y</th>\n",
       "    </tr>\n",
       "  </thead>\n",
       "  <tbody>\n",
       "    <tr>\n",
       "      <th>count</th>\n",
       "      <td>1067384</td>\n",
       "    </tr>\n",
       "    <tr>\n",
       "      <th>unique</th>\n",
       "      <td>11</td>\n",
       "    </tr>\n",
       "    <tr>\n",
       "      <th>top</th>\n",
       "      <td>10</td>\n",
       "    </tr>\n",
       "    <tr>\n",
       "      <th>freq</th>\n",
       "      <td>274034</td>\n",
       "    </tr>\n",
       "  </tbody>\n",
       "</table>\n",
       "</div>"
      ],
      "text/plain": [
       "       rating_y\n",
       "count   1067384\n",
       "unique       11\n",
       "top          10\n",
       "freq     274034"
      ]
     },
     "execution_count": 34,
     "metadata": {},
     "output_type": "execute_result"
    }
   ],
   "source": [
    "merged_dataset_movie_rating= merged_dataset[['rating_y']]\n",
    "merged_dataset_movie_rating.describe()"
   ]
  },
  {
   "cell_type": "code",
   "execution_count": 25,
   "id": "bcea4398-bb8f-4907-8177-adba6144c2f6",
   "metadata": {},
   "outputs": [
    {
     "name": "stdout",
     "output_type": "stream",
     "text": [
      "name\n",
      "10 Cloverfield Lane           1504\n",
      "10 Things I Hate About You     611\n",
      "12 Angry Men                  3022\n",
      "12 Monkeys                    1899\n",
      "12 Strong                      371\n",
      "                              ... \n",
      "Zero Dark Thirty               709\n",
      "Zodiac                        1534\n",
      "Zombieland                    1426\n",
      "Zootopia                      1402\n",
      "Zulu                           261\n",
      "Name: review, Length: 1040, dtype: int64\n"
     ]
    }
   ],
   "source": [
    "# Group by 'title' and count 'review'\n",
    "title_review_count = merged_dataset.groupby('name')['review'].count()\n",
    "\n",
    "# Display the DataFrame\n",
    "print(title_review_count)"
   ]
  },
  {
   "cell_type": "code",
   "execution_count": 35,
   "id": "dba80a79-0ea4-420c-b425-e04a2c47688b",
   "metadata": {},
   "outputs": [
    {
     "data": {
      "image/png": "[encoded data removed]",
      "text/plain": [
       "<Figure size 1000x600 with 1 Axes>"
      ]
     },
     "metadata": {},
     "output_type": "display_data"
    }
   ],
   "source": [
    "# Import necessary libraries to create a histogram of Titles and Review Frequency\n",
    "import matplotlib.pyplot as plt\n",
    "\n",
    "# Create a group by frequency\n",
    "title_review_count = merged_dataset.groupby('name')['review'].count()\n",
    "\n",
    "# Create a histogram\n",
    "plt.figure(figsize=(10, 6))\n",
    "plt.hist(title_review_count, bins=100)\n",
    "plt.xlabel('Number of Reviews')\n",
    "plt.ylabel('Frequency')\n",
    "plt.title('Histogram of Review Counts per Movie Title')\n",
    "plt.xticks(rotation=45)\n",
    "plt.tight_layout()\n",
    "plt.show()"
   ]
  },
  {
   "cell_type": "code",
   "execution_count": 49,
   "id": "b93f1b2d-4158-49f0-bc69-5cc5c0ab9144",
   "metadata": {},
   "outputs": [],
   "source": [
    "# Save merged dataset for project \n",
    "merged_dataset.to_csv('Merged_Dataset.csv', index=False)"
   ]
  },
  {
   "cell_type": "markdown",
   "id": "6ca50c92-a0eb-4000-8744-648e6514738d",
   "metadata": {},
   "source": [
    "# Import Sentiment Training Data "
   ]
  },
  {
   "cell_type": "code",
   "execution_count": 40,
   "id": "ccabe45e-cf2a-4535-9475-4ffe8cfc96f6",
   "metadata": {},
   "outputs": [
    {
     "data": {
      "text/html": [
       "<div>\n",
       "<style scoped>\n",
       "    .dataframe tbody tr th:only-of-type {\n",
       "        vertical-align: middle;\n",
       "    }\n",
       "\n",
       "    .dataframe tbody tr th {\n",
       "        vertical-align: top;\n",
       "    }\n",
       "\n",
       "    .dataframe thead th {\n",
       "        text-align: right;\n",
       "    }\n",
       "</style>\n",
       "<table border=\"1\" class=\"dataframe\">\n",
       "  <thead>\n",
       "    <tr style=\"text-align: right;\">\n",
       "      <th></th>\n",
       "      <th>sentiment</th>\n",
       "      <th>review</th>\n",
       "    </tr>\n",
       "  </thead>\n",
       "  <tbody>\n",
       "    <tr>\n",
       "      <th>0</th>\n",
       "      <td>Positive</td>\n",
       "      <td>With all this stuff going down at the moment w...</td>\n",
       "    </tr>\n",
       "    <tr>\n",
       "      <th>1</th>\n",
       "      <td>Positive</td>\n",
       "      <td>'The Classic War of the Worlds' by Timothy Hin...</td>\n",
       "    </tr>\n",
       "    <tr>\n",
       "      <th>2</th>\n",
       "      <td>Negative</td>\n",
       "      <td>The film starts with a manager (Nicholas Bell)...</td>\n",
       "    </tr>\n",
       "    <tr>\n",
       "      <th>3</th>\n",
       "      <td>Negative</td>\n",
       "      <td>It must be assumed that those who praised this...</td>\n",
       "    </tr>\n",
       "    <tr>\n",
       "      <th>4</th>\n",
       "      <td>Positive</td>\n",
       "      <td>Superbly trashy and wondrously unpretentious 8...</td>\n",
       "    </tr>\n",
       "  </tbody>\n",
       "</table>\n",
       "</div>"
      ],
      "text/plain": [
       "  sentiment                                             review\n",
       "0  Positive  With all this stuff going down at the moment w...\n",
       "1  Positive  'The Classic War of the Worlds' by Timothy Hin...\n",
       "2  Negative  The film starts with a manager (Nicholas Bell)...\n",
       "3  Negative  It must be assumed that those who praised this...\n",
       "4  Positive  Superbly trashy and wondrously unpretentious 8..."
      ]
     },
     "execution_count": 40,
     "metadata": {},
     "output_type": "execute_result"
    }
   ],
   "source": [
    "# Read the CSV file into a DataFrame\n",
    "movieReviewTraining = pd.read_csv('archive/MovieReviewTrainingDatabase.csv')\n",
    "\n",
    "# Display the first five rows of the DataFrame\n",
    "movieReviewTraining.head()"
   ]
  },
  {
   "cell_type": "code",
   "execution_count": 41,
   "id": "221ca6ff-5765-47d8-afb1-e585d4f7b908",
   "metadata": {},
   "outputs": [
    {
     "data": {
      "text/html": [
       "<div>\n",
       "<style scoped>\n",
       "    .dataframe tbody tr th:only-of-type {\n",
       "        vertical-align: middle;\n",
       "    }\n",
       "\n",
       "    .dataframe tbody tr th {\n",
       "        vertical-align: top;\n",
       "    }\n",
       "\n",
       "    .dataframe thead th {\n",
       "        text-align: right;\n",
       "    }\n",
       "</style>\n",
       "<table border=\"1\" class=\"dataframe\">\n",
       "  <thead>\n",
       "    <tr style=\"text-align: right;\">\n",
       "      <th></th>\n",
       "      <th>sentiment</th>\n",
       "      <th>review</th>\n",
       "    </tr>\n",
       "  </thead>\n",
       "  <tbody>\n",
       "    <tr>\n",
       "      <th>24995</th>\n",
       "      <td>Negative</td>\n",
       "      <td>It seems like more consideration has gone into...</td>\n",
       "    </tr>\n",
       "    <tr>\n",
       "      <th>24996</th>\n",
       "      <td>Negative</td>\n",
       "      <td>I don't believe they made this film. Completel...</td>\n",
       "    </tr>\n",
       "    <tr>\n",
       "      <th>24997</th>\n",
       "      <td>Negative</td>\n",
       "      <td>Guy is a loser. Can't get girls, needs to buil...</td>\n",
       "    </tr>\n",
       "    <tr>\n",
       "      <th>24998</th>\n",
       "      <td>Negative</td>\n",
       "      <td>This 30 minute documentary Buñuel made in the ...</td>\n",
       "    </tr>\n",
       "    <tr>\n",
       "      <th>24999</th>\n",
       "      <td>Positive</td>\n",
       "      <td>I saw this movie as a child and it broke my he...</td>\n",
       "    </tr>\n",
       "  </tbody>\n",
       "</table>\n",
       "</div>"
      ],
      "text/plain": [
       "      sentiment                                             review\n",
       "24995  Negative  It seems like more consideration has gone into...\n",
       "24996  Negative  I don't believe they made this film. Completel...\n",
       "24997  Negative  Guy is a loser. Can't get girls, needs to buil...\n",
       "24998  Negative  This 30 minute documentary Buñuel made in the ...\n",
       "24999  Positive  I saw this movie as a child and it broke my he..."
      ]
     },
     "execution_count": 41,
     "metadata": {},
     "output_type": "execute_result"
    }
   ],
   "source": [
    "# Verify the last 5 lines of the last excel sheet are in the dataframe\n",
    "movieReviewTraining.tail()"
   ]
  },
  {
   "cell_type": "markdown",
   "id": "8629a3ab-fd2d-4478-b9a6-942186dc0d6b",
   "metadata": {},
   "source": [
    "# Descriptive statistics of the data frame of sentiment review training set"
   ]
  },
  {
   "cell_type": "code",
   "execution_count": 42,
   "id": "ba4129f8-2e4c-4a53-abe3-94de67284739",
   "metadata": {},
   "outputs": [
    {
     "name": "stdout",
     "output_type": "stream",
     "text": [
      "Shape: (25000, 2)\n"
     ]
    }
   ],
   "source": [
    "# Print the shape of the data to find how many rows and columns\n",
    "print(\"Shape:\", movieReviewTraining.shape)"
   ]
  },
  {
   "cell_type": "code",
   "execution_count": 43,
   "id": "09e9c753-8817-4a4a-8fa7-c8c8f292b11f",
   "metadata": {},
   "outputs": [
    {
     "name": "stdout",
     "output_type": "stream",
     "text": [
      "Columns: Index(['sentiment', 'review'], dtype='object')\n"
     ]
    }
   ],
   "source": [
    "# Get the column names \n",
    "print(\"Columns:\", movieReviewTraining.columns)"
   ]
  },
  {
   "cell_type": "code",
   "execution_count": 44,
   "id": "e9c6d0e5-284d-44cb-a6e7-045ac5484210",
   "metadata": {},
   "outputs": [
    {
     "name": "stdout",
     "output_type": "stream",
     "text": [
      "Data types: sentiment    object\n",
      "review       object\n",
      "dtype: object\n"
     ]
    }
   ],
   "source": [
    "#Show the datatypes of columns\n",
    "print(\"Data types:\", movieReviewTraining.dtypes)"
   ]
  },
  {
   "cell_type": "code",
   "execution_count": 45,
   "id": "bcd123ed-8350-4f08-ac5a-fbde74f43396",
   "metadata": {},
   "outputs": [
    {
     "data": {
      "image/png": "[encoded data removed]",
      "text/plain": [
       "<Figure size 640x480 with 1 Axes>"
      ]
     },
     "metadata": {},
     "output_type": "display_data"
    }
   ],
   "source": [
    "# Import necessary libraries to create a bar chart of Sentiment counts\n",
    "# Create a bar plot\n",
    "import matplotlib.pyplot as plt\n",
    "sentiment_counts = movieReviewTraining['sentiment'].value_counts()\n",
    "plt.bar(sentiment_counts.index, sentiment_counts.values, color=['green', 'red'])\n",
    "plt.xlabel('Sentiment')\n",
    "plt.ylabel('Count')\n",
    "plt.title('Sentiment Score Counts')\n",
    "plt.show()"
   ]
  },
  {
   "cell_type": "code",
   "execution_count": null,
   "id": "56ab501e-a615-44c1-9888-af2c9eb5c01a",
   "metadata": {},
   "outputs": [],
   "source": []
  }
 ],
 "metadata": {
  "kernelspec": {
   "display_name": "Python 3 (ipykernel)",
   "language": "python",
   "name": "python3"
  },
  "language_info": {
   "codemirror_mode": {
    "name": "ipython",
    "version": 3
   },
   "file_extension": ".py",
   "mimetype": "text/x-python",
   "name": "python",
   "nbconvert_exporter": "python",
   "pygments_lexer": "ipython3",
   "version": "3.11.7"
  }
 },
 "nbformat": 4,
 "nbformat_minor": 5
}
